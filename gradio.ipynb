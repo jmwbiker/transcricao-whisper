{
 "cells": [
  {
   "cell_type": "code",
   "execution_count": 2,
   "id": "7242c327-73c1-4abd-be25-f3295777f184",
   "metadata": {},
   "outputs": [
    {
     "name": "stdout",
     "output_type": "stream",
     "text": [
      "* Running on local URL:  http://127.0.0.1:7863\n",
      "* To create a public link, set `share=True` in `launch()`.\n"
     ]
    },
    {
     "data": {
      "text/html": [
       "<div><iframe src=\"http://127.0.0.1:7863/\" width=\"100%\" height=\"500\" allow=\"autoplay; camera; microphone; clipboard-read; clipboard-write;\" frameborder=\"0\" allowfullscreen></iframe></div>"
      ],
      "text/plain": [
       "<IPython.core.display.HTML object>"
      ]
     },
     "metadata": {},
     "output_type": "display_data"
    },
    {
     "data": {
      "text/plain": []
     },
     "execution_count": 2,
     "metadata": {},
     "output_type": "execute_result"
    }
   ],
   "source": [
    "import os\n",
    "import whisper\n",
    "import gradio as gr\n",
    "import warnings\n",
    "warnings.filterwarnings(\"ignore\", category=UserWarning)\n",
    "\n",
    "# 👉 (Opcional) Força o PATH do FFmpeg se estiver com problemas\n",
    "os.environ[\"PATH\"] += os.pathsep + r\"C:\\ffmpeg\\bin\"  # ajuste o caminho se necessário\n",
    "\n",
    "# 🚀 Carrega o modelo Whisper (você pode usar \"tiny\", \"base\", \"small\", etc.)\n",
    "modelo = whisper.load_model(\"base\")\n",
    "\n",
    "# 🎯 Função de transcrição\n",
    "def transcrever(caminho_audio):\n",
    "    if caminho_audio is None:\n",
    "        return \"⚠️ Nenhum áudio enviado.\"\n",
    "    resultado = modelo.transcribe(caminho_audio)\n",
    "    return resultado[\"text\"]\n",
    "\n",
    "# 🎛️ Interface Gradio atualizada\n",
    "interface = gr.Interface(\n",
    "    fn=transcrever,\n",
    "    inputs=gr.Audio(sources=[\"upload\"], type=\"filepath\", label=\"Envie seu arquivo de áudio\"),\n",
    "    outputs=gr.Textbox(label=\"Transcrição gerada\"),\n",
    "    title=\"🎙️ Transcrição com Whisper\",\n",
    "    description=\"Faça upload de um arquivo de áudio (.mp3, .wav, etc) e veja a transcrição automática feita pelo modelo Whisper da OpenAI.\"\n",
    ")\n",
    "\n",
    "# 🚪 Lança a interface dentro do Jupyter Notebook\n",
    "interface.launch(inline=True)"
   ]
  },
  {
   "cell_type": "code",
   "execution_count": null,
   "id": "57377115-fc60-43d3-ae10-30bbaf167a14",
   "metadata": {},
   "outputs": [],
   "source": []
  }
 ],
 "metadata": {
  "kernelspec": {
   "display_name": "Python 3.11",
   "language": "python",
   "name": "python3.11"
  },
  "language_info": {
   "codemirror_mode": {
    "name": "ipython",
    "version": 3
   },
   "file_extension": ".py",
   "mimetype": "text/x-python",
   "name": "python",
   "nbconvert_exporter": "python",
   "pygments_lexer": "ipython3",
   "version": "3.11.9"
  }
 },
 "nbformat": 4,
 "nbformat_minor": 5
}
